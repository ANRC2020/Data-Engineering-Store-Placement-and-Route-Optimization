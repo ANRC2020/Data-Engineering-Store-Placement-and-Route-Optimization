{
 "cells": [
  {
   "cell_type": "code",
   "execution_count": 1,
   "id": "00b4997a",
   "metadata": {},
   "outputs": [
    {
     "name": "stdout",
     "output_type": "stream",
     "text": [
      "Collecting geopandas\n",
      "  Downloading geopandas-0.14.3-py3-none-any.whl (1.1 MB)\n",
      "\u001b[K     |████████████████████████████████| 1.1 MB 24.0 MB/s eta 0:00:01\n",
      "\u001b[?25hCollecting pyproj>=3.3.0\n",
      "  Downloading pyproj-3.6.1-cp39-cp39-manylinux_2_17_x86_64.manylinux2014_x86_64.whl (8.3 MB)\n",
      "\u001b[K     |████████████████████████████████| 8.3 MB 35.9 MB/s eta 0:00:01\n",
      "\u001b[?25hCollecting fiona>=1.8.21\n",
      "  Downloading fiona-1.9.6-cp39-cp39-manylinux2014_x86_64.whl (15.7 MB)\n",
      "\u001b[K     |████████████████████████████████| 15.7 MB 47.8 MB/s eta 0:00:01\n",
      "\u001b[?25hRequirement already satisfied: packaging in /opt/conda/lib/python3.9/site-packages (from geopandas) (21.0)\n",
      "Collecting pandas>=1.4.0\n",
      "  Downloading pandas-2.2.2-cp39-cp39-manylinux_2_17_x86_64.manylinux2014_x86_64.whl (13.1 MB)\n",
      "\u001b[K     |████████████████████████████████| 13.1 MB 51.0 MB/s eta 0:00:01\n",
      "\u001b[?25hCollecting shapely>=1.8.0\n",
      "  Downloading shapely-2.0.3-cp39-cp39-manylinux_2_17_x86_64.manylinux2014_x86_64.whl (2.5 MB)\n",
      "\u001b[K     |████████████████████████████████| 2.5 MB 44.3 MB/s eta 0:00:01\n",
      "\u001b[?25hRequirement already satisfied: click~=8.0 in /opt/conda/lib/python3.9/site-packages (from fiona>=1.8.21->geopandas) (8.0.3)\n",
      "Requirement already satisfied: certifi in /opt/conda/lib/python3.9/site-packages (from fiona>=1.8.21->geopandas) (2021.10.8)\n",
      "Requirement already satisfied: six in /opt/conda/lib/python3.9/site-packages (from fiona>=1.8.21->geopandas) (1.16.0)\n",
      "Collecting click-plugins>=1.0\n",
      "  Downloading click_plugins-1.1.1-py2.py3-none-any.whl (7.5 kB)\n",
      "Requirement already satisfied: attrs>=19.2.0 in /opt/conda/lib/python3.9/site-packages (from fiona>=1.8.21->geopandas) (21.2.0)\n",
      "Requirement already satisfied: importlib-metadata in /opt/conda/lib/python3.9/site-packages (from fiona>=1.8.21->geopandas) (4.8.1)\n",
      "Collecting cligj>=0.5\n",
      "  Downloading cligj-0.7.2-py3-none-any.whl (7.1 kB)\n",
      "Requirement already satisfied: pytz>=2020.1 in /opt/conda/lib/python3.9/site-packages (from pandas>=1.4.0->geopandas) (2021.3)\n",
      "Collecting numpy>=1.22.4\n",
      "  Downloading numpy-1.26.4-cp39-cp39-manylinux_2_17_x86_64.manylinux2014_x86_64.whl (18.2 MB)\n",
      "\u001b[K     |████████████████████████████████| 18.2 MB 49.4 MB/s eta 0:00:01\n",
      "\u001b[?25hCollecting tzdata>=2022.7\n",
      "  Downloading tzdata-2024.1-py2.py3-none-any.whl (345 kB)\n",
      "\u001b[K     |████████████████████████████████| 345 kB 58.9 MB/s eta 0:00:01\n",
      "\u001b[?25hRequirement already satisfied: python-dateutil>=2.8.2 in /opt/conda/lib/python3.9/site-packages (from pandas>=1.4.0->geopandas) (2.8.2)\n",
      "Requirement already satisfied: zipp>=0.5 in /opt/conda/lib/python3.9/site-packages (from importlib-metadata->fiona>=1.8.21->geopandas) (3.6.0)\n",
      "Requirement already satisfied: pyparsing>=2.0.2 in /opt/conda/lib/python3.9/site-packages (from packaging->geopandas) (3.0.4)\n",
      "Installing collected packages: tzdata, numpy, cligj, click-plugins, shapely, pyproj, pandas, fiona, geopandas\n",
      "  Attempting uninstall: numpy\n",
      "    Found existing installation: numpy 1.20.3\n",
      "    Uninstalling numpy-1.20.3:\n",
      "      Successfully uninstalled numpy-1.20.3\n",
      "  Attempting uninstall: pandas\n",
      "    Found existing installation: pandas 1.3.4\n",
      "    Uninstalling pandas-1.3.4:\n",
      "      Successfully uninstalled pandas-1.3.4\n",
      "\u001b[31mERROR: pip's dependency resolver does not currently take into account all the packages that are installed. This behaviour is the source of the following dependency conflicts.\n",
      "daal4py 2021.3.0 requires daal==2021.2.3, which is not installed.\n",
      "scipy 1.7.1 requires numpy<1.23.0,>=1.16.5, but you have numpy 1.26.4 which is incompatible.\n",
      "numba 0.54.1 requires numpy<1.21,>=1.17, but you have numpy 1.26.4 which is incompatible.\u001b[0m\n",
      "Successfully installed click-plugins-1.1.1 cligj-0.7.2 fiona-1.9.6 geopandas-0.14.3 numpy-1.26.4 pandas-2.2.2 pyproj-3.6.1 shapely-2.0.3 tzdata-2024.1\n",
      "\u001b[33mWARNING: Running pip as the 'root' user can result in broken permissions and conflicting behaviour with the system package manager. It is recommended to use a virtual environment instead: https://pip.pypa.io/warnings/venv\u001b[0m\n",
      "Collecting folium\n",
      "  Downloading folium-0.16.0-py2.py3-none-any.whl (100 kB)\n",
      "\u001b[K     |████████████████████████████████| 100 kB 7.9 MB/s eta 0:00:01\n",
      "\u001b[?25hCollecting xyzservices\n",
      "  Downloading xyzservices-2024.4.0-py3-none-any.whl (81 kB)\n",
      "\u001b[K     |████████████████████████████████| 81 kB 165 kB/s  eta 0:00:01\n",
      "\u001b[?25hRequirement already satisfied: jinja2>=2.9 in /opt/conda/lib/python3.9/site-packages (from folium) (2.11.3)\n",
      "Requirement already satisfied: numpy in /opt/conda/lib/python3.9/site-packages (from folium) (1.26.4)\n",
      "Collecting branca>=0.6.0\n",
      "  Downloading branca-0.7.1-py3-none-any.whl (25 kB)\n",
      "Requirement already satisfied: requests in /opt/conda/lib/python3.9/site-packages (from folium) (2.26.0)\n",
      "Collecting jinja2>=2.9\n",
      "  Downloading Jinja2-3.1.3-py3-none-any.whl (133 kB)\n",
      "\u001b[K     |████████████████████████████████| 133 kB 71.6 MB/s eta 0:00:01\n",
      "\u001b[?25hCollecting MarkupSafe>=2.0\n",
      "  Downloading MarkupSafe-2.1.5-cp39-cp39-manylinux_2_17_x86_64.manylinux2014_x86_64.whl (25 kB)\n",
      "Requirement already satisfied: charset-normalizer~=2.0.0 in /opt/conda/lib/python3.9/site-packages (from requests->folium) (2.0.4)\n",
      "Requirement already satisfied: urllib3<1.27,>=1.21.1 in /opt/conda/lib/python3.9/site-packages (from requests->folium) (1.26.7)\n",
      "Requirement already satisfied: idna<4,>=2.5 in /opt/conda/lib/python3.9/site-packages (from requests->folium) (3.2)\n",
      "Requirement already satisfied: certifi>=2017.4.17 in /opt/conda/lib/python3.9/site-packages (from requests->folium) (2021.10.8)\n",
      "Installing collected packages: MarkupSafe, jinja2, xyzservices, branca, folium\n",
      "  Attempting uninstall: MarkupSafe\n",
      "    Found existing installation: MarkupSafe 1.1.1\n",
      "    Uninstalling MarkupSafe-1.1.1:\n",
      "      Successfully uninstalled MarkupSafe-1.1.1\n",
      "  Attempting uninstall: jinja2\n",
      "    Found existing installation: Jinja2 2.11.3\n",
      "    Uninstalling Jinja2-2.11.3:\n",
      "      Successfully uninstalled Jinja2-2.11.3\n",
      "\u001b[31mERROR: pip's dependency resolver does not currently take into account all the packages that are installed. This behaviour is the source of the following dependency conflicts.\n",
      "anaconda-project 0.10.1 requires ruamel-yaml, which is not installed.\n",
      "cookiecutter 1.7.2 requires Jinja2<3.0.0, but you have jinja2 3.1.3 which is incompatible.\n",
      "cookiecutter 1.7.2 requires MarkupSafe<2.0.0, but you have markupsafe 2.1.5 which is incompatible.\u001b[0m\n",
      "Successfully installed MarkupSafe-2.1.5 branca-0.7.1 folium-0.16.0 jinja2-3.1.3 xyzservices-2024.4.0\n",
      "\u001b[33mWARNING: Running pip as the 'root' user can result in broken permissions and conflicting behaviour with the system package manager. It is recommended to use a virtual environment instead: https://pip.pypa.io/warnings/venv\u001b[0m\n",
      "Collecting geopy\n",
      "  Downloading geopy-2.4.1-py3-none-any.whl (125 kB)\n",
      "\u001b[K     |████████████████████████████████| 125 kB 22.6 MB/s eta 0:00:01\n",
      "\u001b[?25hRequirement already satisfied: geographiclib<3,>=1.52 in /opt/conda/lib/python3.9/site-packages (from geopy) (2.0)\n",
      "Installing collected packages: geopy\n",
      "Successfully installed geopy-2.4.1\n",
      "\u001b[33mWARNING: Running pip as the 'root' user can result in broken permissions and conflicting behaviour with the system package manager. It is recommended to use a virtual environment instead: https://pip.pypa.io/warnings/venv\u001b[0m\n",
      "Collecting osmnx==1.9.1\n",
      "  Downloading osmnx-1.9.1-py3-none-any.whl (104 kB)\n",
      "\u001b[K     |████████████████████████████████| 104 kB 18.3 MB/s eta 0:00:01\n",
      "\u001b[?25hRequirement already satisfied: geopandas>=0.12 in /opt/conda/lib/python3.9/site-packages (from osmnx==1.9.1) (0.14.3)\n",
      "Requirement already satisfied: numpy>=1.20 in /opt/conda/lib/python3.9/site-packages (from osmnx==1.9.1) (1.26.4)\n",
      "Requirement already satisfied: networkx>=2.5 in /opt/conda/lib/python3.9/site-packages (from osmnx==1.9.1) (2.6.3)\n",
      "Collecting requests>=2.27\n",
      "  Downloading requests-2.31.0-py3-none-any.whl (62 kB)\n",
      "\u001b[K     |████████████████████████████████| 62 kB 2.2 MB/s  eta 0:00:01\n",
      "\u001b[?25hRequirement already satisfied: shapely>=2.0 in /opt/conda/lib/python3.9/site-packages (from osmnx==1.9.1) (2.0.3)\n",
      "Requirement already satisfied: pandas>=1.1 in /opt/conda/lib/python3.9/site-packages (from osmnx==1.9.1) (2.2.2)\n",
      "Requirement already satisfied: packaging in /opt/conda/lib/python3.9/site-packages (from geopandas>=0.12->osmnx==1.9.1) (21.0)\n",
      "Requirement already satisfied: fiona>=1.8.21 in /opt/conda/lib/python3.9/site-packages (from geopandas>=0.12->osmnx==1.9.1) (1.9.6)\n",
      "Requirement already satisfied: pyproj>=3.3.0 in /opt/conda/lib/python3.9/site-packages (from geopandas>=0.12->osmnx==1.9.1) (3.6.1)\n"
     ]
    },
    {
     "name": "stdout",
     "output_type": "stream",
     "text": [
      "Requirement already satisfied: certifi in /opt/conda/lib/python3.9/site-packages (from fiona>=1.8.21->geopandas>=0.12->osmnx==1.9.1) (2021.10.8)\n",
      "Requirement already satisfied: cligj>=0.5 in /opt/conda/lib/python3.9/site-packages (from fiona>=1.8.21->geopandas>=0.12->osmnx==1.9.1) (0.7.2)\n",
      "Requirement already satisfied: attrs>=19.2.0 in /opt/conda/lib/python3.9/site-packages (from fiona>=1.8.21->geopandas>=0.12->osmnx==1.9.1) (21.2.0)\n",
      "Requirement already satisfied: importlib-metadata in /opt/conda/lib/python3.9/site-packages (from fiona>=1.8.21->geopandas>=0.12->osmnx==1.9.1) (4.8.1)\n",
      "Requirement already satisfied: six in /opt/conda/lib/python3.9/site-packages (from fiona>=1.8.21->geopandas>=0.12->osmnx==1.9.1) (1.16.0)\n",
      "Requirement already satisfied: click~=8.0 in /opt/conda/lib/python3.9/site-packages (from fiona>=1.8.21->geopandas>=0.12->osmnx==1.9.1) (8.0.3)\n",
      "Requirement already satisfied: click-plugins>=1.0 in /opt/conda/lib/python3.9/site-packages (from fiona>=1.8.21->geopandas>=0.12->osmnx==1.9.1) (1.1.1)\n",
      "Requirement already satisfied: pytz>=2020.1 in /opt/conda/lib/python3.9/site-packages (from pandas>=1.1->osmnx==1.9.1) (2021.3)\n",
      "Requirement already satisfied: tzdata>=2022.7 in /opt/conda/lib/python3.9/site-packages (from pandas>=1.1->osmnx==1.9.1) (2024.1)\n",
      "Requirement already satisfied: python-dateutil>=2.8.2 in /opt/conda/lib/python3.9/site-packages (from pandas>=1.1->osmnx==1.9.1) (2.8.2)\n",
      "Requirement already satisfied: charset-normalizer<4,>=2 in /opt/conda/lib/python3.9/site-packages (from requests>=2.27->osmnx==1.9.1) (2.0.4)\n",
      "Requirement already satisfied: urllib3<3,>=1.21.1 in /opt/conda/lib/python3.9/site-packages (from requests>=2.27->osmnx==1.9.1) (1.26.7)\n",
      "Requirement already satisfied: idna<4,>=2.5 in /opt/conda/lib/python3.9/site-packages (from requests>=2.27->osmnx==1.9.1) (3.2)\n",
      "Requirement already satisfied: zipp>=0.5 in /opt/conda/lib/python3.9/site-packages (from importlib-metadata->fiona>=1.8.21->geopandas>=0.12->osmnx==1.9.1) (3.6.0)\n",
      "Requirement already satisfied: pyparsing>=2.0.2 in /opt/conda/lib/python3.9/site-packages (from packaging->geopandas>=0.12->osmnx==1.9.1) (3.0.4)\n",
      "Installing collected packages: requests, osmnx\n",
      "  Attempting uninstall: requests\n",
      "    Found existing installation: requests 2.26.0\n",
      "    Uninstalling requests-2.26.0:\n",
      "      Successfully uninstalled requests-2.26.0\n",
      "\u001b[31mERROR: pip's dependency resolver does not currently take into account all the packages that are installed. This behaviour is the source of the following dependency conflicts.\n",
      "conda-repo-cli 1.0.4 requires pathlib, which is not installed.\n",
      "anaconda-project 0.10.1 requires ruamel-yaml, which is not installed.\n",
      "cookiecutter 1.7.2 requires Jinja2<3.0.0, but you have jinja2 3.1.3 which is incompatible.\n",
      "cookiecutter 1.7.2 requires MarkupSafe<2.0.0, but you have markupsafe 2.1.5 which is incompatible.\u001b[0m\n",
      "Successfully installed osmnx-1.9.1 requests-2.31.0\n",
      "\u001b[33mWARNING: Running pip as the 'root' user can result in broken permissions and conflicting behaviour with the system package manager. It is recommended to use a virtual environment instead: https://pip.pypa.io/warnings/venv\u001b[0m\n",
      "Requirement already satisfied: osmnx in /opt/conda/lib/python3.9/site-packages (1.9.1)\n",
      "Collecting osmnx\n",
      "  Downloading osmnx-1.9.2-py3-none-any.whl (107 kB)\n",
      "\u001b[K     |████████████████████████████████| 107 kB 14.3 MB/s eta 0:00:01\n",
      "\u001b[?25hRequirement already satisfied: matplotlib in /opt/conda/lib/python3.9/site-packages (3.4.3)\n",
      "Collecting matplotlib\n",
      "  Downloading matplotlib-3.8.4-cp39-cp39-manylinux_2_17_x86_64.manylinux2014_x86_64.whl (11.6 MB)\n",
      "\u001b[K     |████████████████████████████████| 11.6 MB 57.9 MB/s eta 0:00:01\n",
      "\u001b[?25hRequirement already satisfied: pandas>=1.1 in /opt/conda/lib/python3.9/site-packages (from osmnx) (2.2.2)\n",
      "Requirement already satisfied: networkx>=2.5 in /opt/conda/lib/python3.9/site-packages (from osmnx) (2.6.3)\n",
      "Requirement already satisfied: numpy>=1.20 in /opt/conda/lib/python3.9/site-packages (from osmnx) (1.26.4)\n",
      "Requirement already satisfied: geopandas>=0.12 in /opt/conda/lib/python3.9/site-packages (from osmnx) (0.14.3)\n",
      "Requirement already satisfied: shapely>=2.0 in /opt/conda/lib/python3.9/site-packages (from osmnx) (2.0.3)\n",
      "Requirement already satisfied: requests>=2.27 in /opt/conda/lib/python3.9/site-packages (from osmnx) (2.31.0)\n",
      "Collecting contourpy>=1.0.1\n",
      "  Downloading contourpy-1.2.1-cp39-cp39-manylinux_2_17_x86_64.manylinux2014_x86_64.whl (304 kB)\n",
      "\u001b[K     |████████████████████████████████| 304 kB 58.5 MB/s eta 0:00:01\n",
      "\u001b[?25hRequirement already satisfied: fonttools>=4.22.0 in /opt/conda/lib/python3.9/site-packages (from matplotlib) (4.25.0)\n",
      "Requirement already satisfied: kiwisolver>=1.3.1 in /opt/conda/lib/python3.9/site-packages (from matplotlib) (1.3.1)\n",
      "Requirement already satisfied: packaging>=20.0 in /opt/conda/lib/python3.9/site-packages (from matplotlib) (21.0)\n",
      "Requirement already satisfied: pillow>=8 in /opt/conda/lib/python3.9/site-packages (from matplotlib) (8.4.0)\n",
      "Requirement already satisfied: python-dateutil>=2.7 in /opt/conda/lib/python3.9/site-packages (from matplotlib) (2.8.2)\n",
      "Collecting importlib-resources>=3.2.0\n",
      "  Downloading importlib_resources-6.4.0-py3-none-any.whl (38 kB)\n",
      "Requirement already satisfied: cycler>=0.10 in /opt/conda/lib/python3.9/site-packages (from matplotlib) (0.10.0)\n",
      "Requirement already satisfied: pyparsing>=2.3.1 in /opt/conda/lib/python3.9/site-packages (from matplotlib) (3.0.4)\n",
      "Requirement already satisfied: six in /opt/conda/lib/python3.9/site-packages (from cycler>=0.10->matplotlib) (1.16.0)\n",
      "Requirement already satisfied: fiona>=1.8.21 in /opt/conda/lib/python3.9/site-packages (from geopandas>=0.12->osmnx) (1.9.6)\n",
      "Requirement already satisfied: pyproj>=3.3.0 in /opt/conda/lib/python3.9/site-packages (from geopandas>=0.12->osmnx) (3.6.1)\n",
      "Requirement already satisfied: attrs>=19.2.0 in /opt/conda/lib/python3.9/site-packages (from fiona>=1.8.21->geopandas>=0.12->osmnx) (21.2.0)\n",
      "Requirement already satisfied: click-plugins>=1.0 in /opt/conda/lib/python3.9/site-packages (from fiona>=1.8.21->geopandas>=0.12->osmnx) (1.1.1)\n",
      "Requirement already satisfied: importlib-metadata in /opt/conda/lib/python3.9/site-packages (from fiona>=1.8.21->geopandas>=0.12->osmnx) (4.8.1)\n",
      "Requirement already satisfied: certifi in /opt/conda/lib/python3.9/site-packages (from fiona>=1.8.21->geopandas>=0.12->osmnx) (2021.10.8)\n",
      "Requirement already satisfied: cligj>=0.5 in /opt/conda/lib/python3.9/site-packages (from fiona>=1.8.21->geopandas>=0.12->osmnx) (0.7.2)\n",
      "Requirement already satisfied: click~=8.0 in /opt/conda/lib/python3.9/site-packages (from fiona>=1.8.21->geopandas>=0.12->osmnx) (8.0.3)\n",
      "Requirement already satisfied: zipp>=3.1.0 in /opt/conda/lib/python3.9/site-packages (from importlib-resources>=3.2.0->matplotlib) (3.6.0)\n",
      "Requirement already satisfied: pytz>=2020.1 in /opt/conda/lib/python3.9/site-packages (from pandas>=1.1->osmnx) (2021.3)\n",
      "Requirement already satisfied: tzdata>=2022.7 in /opt/conda/lib/python3.9/site-packages (from pandas>=1.1->osmnx) (2024.1)\n",
      "Requirement already satisfied: idna<4,>=2.5 in /opt/conda/lib/python3.9/site-packages (from requests>=2.27->osmnx) (3.2)\n",
      "Requirement already satisfied: charset-normalizer<4,>=2 in /opt/conda/lib/python3.9/site-packages (from requests>=2.27->osmnx) (2.0.4)\n",
      "Requirement already satisfied: urllib3<3,>=1.21.1 in /opt/conda/lib/python3.9/site-packages (from requests>=2.27->osmnx) (1.26.7)\n",
      "Installing collected packages: importlib-resources, contourpy, osmnx, matplotlib\n",
      "  Attempting uninstall: osmnx\n",
      "    Found existing installation: osmnx 1.9.1\n",
      "    Uninstalling osmnx-1.9.1:\n",
      "      Successfully uninstalled osmnx-1.9.1\n",
      "  Attempting uninstall: matplotlib\n",
      "    Found existing installation: matplotlib 3.4.3\n",
      "    Uninstalling matplotlib-3.4.3:\n",
      "      Successfully uninstalled matplotlib-3.4.3\n",
      "Successfully installed contourpy-1.2.1 importlib-resources-6.4.0 matplotlib-3.8.4 osmnx-1.9.2\n",
      "\u001b[33mWARNING: Running pip as the 'root' user can result in broken permissions and conflicting behaviour with the system package manager. It is recommended to use a virtual environment instead: https://pip.pypa.io/warnings/venv\u001b[0m\n",
      "\n",
      "Usage:   \n",
      "  pip <command> [options]\n",
      "\n",
      "no such option: -m\n"
     ]
    }
   ],
   "source": [
    "!pip install geopandas\n",
    "!pip install folium\n",
    "!pip install geopy\n",
    "!pip install osmnx==1.9.1\n",
    "!pip install --upgrade osmnx matplotlib\n",
    "!pip -m pip install redis"
   ]
  },
  {
   "cell_type": "markdown",
   "id": "2a2413a2",
   "metadata": {},
   "source": [
    "Everything above was testing if redis works in the environment"
   ]
  },
  {
   "cell_type": "code",
   "execution_count": 2,
   "id": "3537f9a3",
   "metadata": {},
   "outputs": [
    {
     "name": "stderr",
     "output_type": "stream",
     "text": [
      "/opt/conda/lib/python3.9/site-packages/pandas/core/computation/expressions.py:21: UserWarning: Pandas requires version '2.8.4' or newer of 'numexpr' (version '2.7.3' currently installed).\n",
      "  from pandas.core.computation.check import NUMEXPR_INSTALLED\n",
      "/opt/conda/lib/python3.9/site-packages/pandas/core/arrays/masked.py:60: UserWarning: Pandas requires version '1.3.6' or newer of 'bottleneck' (version '1.3.2' currently installed).\n",
      "  from pandas.core import (\n",
      "/opt/conda/lib/python3.9/site-packages/scipy/__init__.py:146: UserWarning: A NumPy version >=1.16.5 and <1.23.0 is required for this version of SciPy (detected version 1.26.4\n",
      "  warnings.warn(f\"A NumPy version >={np_minversion} and <{np_maxversion}\"\n"
     ]
    }
   ],
   "source": [
    "import redis\n",
    "import json\n",
    "import pandas as pd\n",
    "import geopandas as gpd\n",
    "import math\n",
    "import folium\n",
    "from folium import Choropleth, Circle, Marker\n",
    "from folium.plugins import HeatMap, MarkerCluster\n",
    "from geopy.geocoders import Nominatim\n",
    "import random\n",
    "import time\n",
    "import osmnx as ox\n",
    "from shapely.geometry import Point, LineString\n",
    "import pickle as pk\n",
    "import os\n",
    "from IPython.display import clear_output"
   ]
  },
  {
   "cell_type": "code",
   "execution_count": 3,
   "id": "269ec2e8",
   "metadata": {},
   "outputs": [
    {
     "data": {
      "text/plain": [
       "True"
      ]
     },
     "execution_count": 3,
     "metadata": {},
     "output_type": "execute_result"
    }
   ],
   "source": [
    "#Will change the db number later when I clean up the notebook\n",
    "#change host = '' value to redis container ID when running docker in the ananconda_postgres_redis folder\n",
    "client = redis.StrictRedis(host='9b1ed92813b7', port=6379, db=1)\n",
    "\n",
    "with open('county_routes.json') as data_file:\n",
    "    test_data1 = json.load(data_file)\n",
    "    test_data1 = json.dumps(test_data1)\n",
    "client.set('county_json', test_data1)\n",
    "\n",
    "with open('store_info.json') as data_file:\n",
    "    test_data2 = json.load(data_file)\n",
    "    test_data2 = json.dumps(test_data2)\n",
    "client.set('store_json', test_data2)"
   ]
  },
  {
   "cell_type": "code",
   "execution_count": 4,
   "id": "dcd5d547",
   "metadata": {},
   "outputs": [],
   "source": [
    "county_data = client.get('county_json')"
   ]
  },
  {
   "cell_type": "code",
   "execution_count": 5,
   "id": "559a65ed",
   "metadata": {},
   "outputs": [],
   "source": [
    "store_data = client.get('store_json')"
   ]
  },
  {
   "cell_type": "code",
   "execution_count": 6,
   "id": "c7440f2d",
   "metadata": {},
   "outputs": [],
   "source": [
    "county_routes = json.loads(county_data)\n",
    "store_info = json.loads(store_data)"
   ]
  },
  {
   "cell_type": "markdown",
   "id": "3eea2ea1",
   "metadata": {},
   "source": [
    "This will now get the central locations and assign the counties to these coordinates"
   ]
  },
  {
   "cell_type": "code",
   "execution_count": 7,
   "id": "783899f0",
   "metadata": {},
   "outputs": [],
   "source": [
    "counties = ['San Francisco', 'Santa Clara', 'Contra Costa', 'Alameda', 'San Mateo']\n",
    "coordinates = [[37.759344, -122.446452], [37.258336, -121.734320], [37.955321, -121.879418], \n",
    "               [37.674112, -121.971002], [37.466796, -122.391435]]"
   ]
  },
  {
   "cell_type": "code",
   "execution_count": 8,
   "id": "044ab29f",
   "metadata": {},
   "outputs": [],
   "source": [
    "folium_maps = {}\n",
    "\n",
    "for i, county in enumerate(counties):\n",
    "    folium_maps[county] = folium.Map(location=coordinates[i], tiles='openstreetmap', prefer_canvas=True)"
   ]
  },
  {
   "cell_type": "markdown",
   "id": "a303e253",
   "metadata": {},
   "source": [
    "This code will take a while to run as it needs to generate the maps for each of the counties"
   ]
  },
  {
   "cell_type": "code",
   "execution_count": 9,
   "id": "72c6e534",
   "metadata": {
    "scrolled": true
   },
   "outputs": [],
   "source": [
    "maps = {}\n",
    "\n",
    "for county in counties:\n",
    "    maps[county] = ox.graph_from_place(f\"{county}, California, USA\", network_type=\"drive\")\n",
    "    \n",
    "for county, graph in maps.items():\n",
    "    file_name = f\"{county}_graph.pickle\"\n",
    "    file_path = os.path.join('.', file_name)\n",
    "    with open(file_path, 'wb') as handle:\n",
    "        pk.dump(graph, handle, protocol=pk.HIGHEST_PROTOCOL)"
   ]
  },
  {
   "cell_type": "code",
   "execution_count": 23,
   "id": "56c8c7f7",
   "metadata": {},
   "outputs": [],
   "source": [
    "ALL_routes = county_routes[county]['route']"
   ]
  },
  {
   "cell_type": "code",
   "execution_count": 24,
   "id": "e1005023",
   "metadata": {},
   "outputs": [
    {
     "data": {
      "text/plain": [
       "'Alameda'"
      ]
     },
     "execution_count": 24,
     "metadata": {},
     "output_type": "execute_result"
    }
   ],
   "source": [
    "counties[3]"
   ]
  },
  {
   "cell_type": "code",
   "execution_count": 25,
   "id": "1c81252d",
   "metadata": {},
   "outputs": [],
   "source": [
    "Alameda = folium.Map(location=coordinates[3], tiles='openstreetmap', prefer_canvas=True)"
   ]
  },
  {
   "cell_type": "markdown",
   "id": "d1890bcc",
   "metadata": {},
   "source": [
    "This is the main code to run and get to see how the driver moves along the road to their next destination."
   ]
  },
  {
   "cell_type": "markdown",
   "id": "aa8333df",
   "metadata": {},
   "source": [
    "DISCLAIMER: THERE IS A BUG THAT WHEN YOU RUN THROUGH THE NOTEBOOK THE FIRST TIME.\n",
    "THIS CODE WILL NOT RUN YOU WILL HAVE TO RE-RUN THE ABOVE 3 CODE LINES AGAIN.\n",
    "BEFORE IT WORKS AGAIN.\n",
    "CURRENTLY WORKING ON FIXING IT"
   ]
  },
  {
   "cell_type": "code",
   "execution_count": 32,
   "id": "6886d9aa",
   "metadata": {
    "scrolled": false
   },
   "outputs": [
    {
     "ename": "KeyboardInterrupt",
     "evalue": "",
     "output_type": "error",
     "traceback": [
      "\u001b[0;31m---------------------------------------------------------------------------\u001b[0m",
      "\u001b[0;31mKeyboardInterrupt\u001b[0m                         Traceback (most recent call last)",
      "\u001b[0;32m/tmp/ipykernel_24/803923204.py\u001b[0m in \u001b[0;36m<module>\u001b[0;34m\u001b[0m\n\u001b[1;32m     52\u001b[0m                 \u001b[0mitems_delivered\u001b[0m\u001b[0;34m.\u001b[0m\u001b[0mappend\u001b[0m\u001b[0;34m(\u001b[0m\u001b[0mitem\u001b[0m\u001b[0;34m)\u001b[0m\u001b[0;34m\u001b[0m\u001b[0;34m\u001b[0m\u001b[0m\n\u001b[1;32m     53\u001b[0m                 \u001b[0mstore_info\u001b[0m\u001b[0;34m[\u001b[0m\u001b[0mnames\u001b[0m\u001b[0;34m[\u001b[0m\u001b[0mj\u001b[0m\u001b[0;34m]\u001b[0m\u001b[0;34m]\u001b[0m\u001b[0;34m[\u001b[0m\u001b[0;34m'items_requested'\u001b[0m\u001b[0;34m]\u001b[0m\u001b[0;34m[\u001b[0m\u001b[0mitem\u001b[0m\u001b[0;34m]\u001b[0m \u001b[0;34m-=\u001b[0m \u001b[0mquantity\u001b[0m\u001b[0;34m\u001b[0m\u001b[0;34m\u001b[0m\u001b[0m\n\u001b[0;32m---> 54\u001b[0;31m                 \u001b[0mtime\u001b[0m\u001b[0;34m.\u001b[0m\u001b[0msleep\u001b[0m\u001b[0;34m(\u001b[0m\u001b[0mrandint\u001b[0m\u001b[0;34m(\u001b[0m\u001b[0;36m7\u001b[0m\u001b[0;34m,\u001b[0m\u001b[0;36m15\u001b[0m\u001b[0;34m)\u001b[0m\u001b[0;34m)\u001b[0m\u001b[0;34m\u001b[0m\u001b[0;34m\u001b[0m\u001b[0m\n\u001b[0m\u001b[1;32m     55\u001b[0m \u001b[0;34m\u001b[0m\u001b[0m\n\u001b[1;32m     56\u001b[0m                 \u001b[0mmarker\u001b[0m \u001b[0;34m=\u001b[0m \u001b[0mfolium\u001b[0m\u001b[0;34m.\u001b[0m\u001b[0mMarker\u001b[0m\u001b[0;34m(\u001b[0m\u001b[0;34m[\u001b[0m\u001b[0mfloat\u001b[0m\u001b[0;34m(\u001b[0m\u001b[0mlon_str\u001b[0m\u001b[0;34m)\u001b[0m\u001b[0;34m,\u001b[0m \u001b[0mfloat\u001b[0m\u001b[0;34m(\u001b[0m\u001b[0mlat_str\u001b[0m\u001b[0;34m)\u001b[0m\u001b[0;34m]\u001b[0m\u001b[0;34m,\u001b[0m \u001b[0mpopup\u001b[0m\u001b[0;34m=\u001b[0m\u001b[0mpopup_text\u001b[0m\u001b[0;34m,\u001b[0m \u001b[0micon\u001b[0m\u001b[0;34m=\u001b[0m\u001b[0mfolium\u001b[0m\u001b[0;34m.\u001b[0m\u001b[0mIcon\u001b[0m\u001b[0;34m(\u001b[0m\u001b[0mcolor\u001b[0m\u001b[0;34m=\u001b[0m\u001b[0;34m'red'\u001b[0m\u001b[0;34m)\u001b[0m\u001b[0;34m)\u001b[0m\u001b[0;34m\u001b[0m\u001b[0;34m\u001b[0m\u001b[0m\n",
      "\u001b[0;31mKeyboardInterrupt\u001b[0m: "
     ]
    }
   ],
   "source": [
    "from random import randint\n",
    "G = maps['Alameda']\n",
    "county = 'Alameda'\n",
    "names = county_routes[county]['nodes']\n",
    "map_ = Alameda\n",
    "\n",
    "\n",
    "switch = True\n",
    "for j, route in enumerate(ALL_routes):\n",
    "    initialize = []\n",
    "    breaker = True\n",
    "    if switch == True:\n",
    "        initialize.append(route[0])\n",
    "        initialize.append(route[1])\n",
    "        store_cords = county_routes[county]['coordinates'][j]\n",
    "        lon_str, lat_str = store_cords.strip('()').split(', ')\n",
    "        map_ = folium.Map(location=coordinates[3], tiles='openstreetmap', prefer_canvas=True)\n",
    "        folium.Marker([float(lon_str), float(lat_str)], popup=names[j], icon=folium.Icon(color='red')).add_to(map_)\n",
    "        print(f\"Viewing Route for {county} County | Currently enroute to {names[j+1]} from {names[j]}\")\n",
    "        map_= ox.plot_route_folium(G, initialize, route_map=map_, weight=10)\n",
    "        map_.fit_bounds(map_.get_bounds())\n",
    "        display(map_)\n",
    "        switch = False\n",
    "    s = 2\n",
    "    while s < len(route):\n",
    "        print(f\"Viewing Route for {county} County | Currently enroute to {names[j]} from {names[j+1]}\")\n",
    "        if s == (len(route) - 1):\n",
    "            map_= ox.plot_route_folium(G, route, route_map=map_, weight=10)\n",
    "            map_.fit_bounds(map_.get_bounds())\n",
    "            display(map_)\n",
    "            del initialize[:]\n",
    "            switch = True\n",
    "            break\n",
    "        elif breaker == True:\n",
    "            popup_text = f\"<b>{names[j]}</b><br>Unloading...<br><br><b>Delivery Status:</b><br>\"\n",
    "            items_delivered = []\n",
    "            for item, quantity in store_info[names[j]]['items_requested'].items():\n",
    "#                     print(len(store_info[names[j]]['items_requested'].items()))\n",
    "#                     print(item)\n",
    "#                     print(store_info[names[j]]['items_requested'])\n",
    "#                     print(quantity)\n",
    "#                     if quantity > 0:\n",
    "#                         if quantity == 1:\n",
    "#                             popup_text += f\"{item}: Delivered<br>\"\n",
    "#                             items_delivered.append(item)\n",
    "#                         else:\n",
    "#                             popup_text += f\"{item}: {quantity - 1} remaining<br>\"\n",
    "#                         store_info[names[j]]['items_requested'][item] -= 1\n",
    "                clear_output(wait=True)\n",
    "                popup_text += f\"{item}: Delivered<br>\"\n",
    "                items_delivered.append(item)\n",
    "                store_info[names[j]]['items_requested'][item] -= quantity\n",
    "                time.sleep(randint(7,15))\n",
    "\n",
    "                marker = folium.Marker([float(lon_str), float(lat_str)], popup=popup_text, icon=folium.Icon(color='red'))\n",
    "                marker.add_to(map_)\n",
    "                map_.fit_bounds(map_.get_bounds())\n",
    "                display(map_)\n",
    "\n",
    "                if (len(items_delivered) == len(store_info[names[j]]['items_requested'].items())):\n",
    "                    clear_output(wait=True)\n",
    "                    popup_text = f\"<b>{names[j]}</b><br>Completed\"\n",
    "                    breaker = False\n",
    "                    marker = folium.Marker([float(lon_str), float(lat_str)], popup=popup_text, icon=folium.Icon(color='red'))\n",
    "                    marker.add_to(map_)\n",
    "                    map_.fit_bounds(map_.get_bounds())\n",
    "                    display(map_)\n",
    "\n",
    "            for item_delivered in items_delivered:\n",
    "                del store_info[names[j]]['items_requested'][item_delivered]\n",
    "\n",
    "            client.set('store_json', json.dumps(store_info))\n",
    "\n",
    "        else:\n",
    "#                 print('Before: ', initialize)\n",
    "            clear_output(wait=True)\n",
    "            map_= ox.plot_route_folium(G, initialize, route_map=map_, weight=10)\n",
    "            map_.fit_bounds(map_.get_bounds())\n",
    "            display(ox.plot_route_folium(G, initialize, route_map=map_, weight=10))\n",
    "#                 print('Route: ', route[s])\n",
    "#                 print(type(route))\n",
    "            initialize.append(route[s])\n",
    "#                 print('After: ', initialize)\n",
    "\n",
    "            s+=1\n",
    "        time.sleep(3)\n",
    "\n"
   ]
  },
  {
   "cell_type": "code",
   "execution_count": null,
   "id": "9a2f76ed",
   "metadata": {},
   "outputs": [],
   "source": []
  }
 ],
 "metadata": {
  "kernelspec": {
   "display_name": "Python 3 (ipykernel)",
   "language": "python",
   "name": "python3"
  },
  "language_info": {
   "codemirror_mode": {
    "name": "ipython",
    "version": 3
   },
   "file_extension": ".py",
   "mimetype": "text/x-python",
   "name": "python",
   "nbconvert_exporter": "python",
   "pygments_lexer": "ipython3",
   "version": "3.9.7"
  }
 },
 "nbformat": 4,
 "nbformat_minor": 5
}
